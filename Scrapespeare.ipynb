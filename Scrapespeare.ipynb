{
 "cells": [
  {
   "cell_type": "markdown",
   "metadata": {},
   "source": [
    "### 1) import dependencies"
   ]
  },
  {
   "cell_type": "code",
   "execution_count": null,
   "metadata": {},
   "outputs": [],
   "source": [
    "import lib.ScrapeNoFearShakespeare\n",
    "from weasyprint import HTML"
   ]
  },
  {
   "cell_type": "markdown",
   "metadata": {},
   "source": [
    "### 2) initialize URLs and dictionary of most works"
   ]
  },
  {
   "cell_type": "code",
   "execution_count": null,
   "metadata": {},
   "outputs": [],
   "source": [
    "# define page root\n",
    "strURLRoot = 'https://www.sparknotes.com/nofear/shakespeare/'"
   ]
  },
  {
   "cell_type": "code",
   "execution_count": null,
   "metadata": {},
   "outputs": [],
   "source": [
    "# the following dictionary includes most works, which run on even pages (starting on page 2). It excludes\n",
    "# 1) 'Henry IV, Part I' ('henry4pt1'), which runs on odd pages (starting on page 3), and\n",
    "# 2) 'Henry IV, Part II' ('henry4pt2'), which runs on odd pages (starting on page 269), and\n",
    "# 3) 'Sonnets' ('sonnets'), which runs on every page (starting on page 1).\n",
    "dictWork = {'Antony and Cleopatra':'antony-and-cleopatra', 'As You Like It':'asyoulikeit',\n",
    "            'The Comedy of Errors':'errors', 'Coriolanus':'coriolanus', 'Hamlet':'hamlet', \n",
    "            'Julius Caesar':'juliuscaesar', 'King Lear':'lear', 'Macbeth':'macbeth', \n",
    "            'Measure for Measure':'measure-for-measure', 'The Merchant of Venice':'merchant', \n",
    "            'A Midsummer Night\\'s Dream':'msnd', 'Much Ado About Nothing':'muchado', 'Othello':'othello', \n",
    "            'Richard II':'richardii', 'Richard III':'richardiii', 'The Tempest':'tempest', \n",
    "            'Twelfth Night':'twelfthnight', 'Two Gentlemen of Verona':'twogentlemen', \n",
    "            'The Winter\\'s Tale':'winterstale'}"
   ]
  },
  {
   "cell_type": "code",
   "execution_count": null,
   "metadata": {},
   "outputs": [],
   "source": [
    "# unrem this smaller dictionary for testing/debugging\n",
    "# dictWork = {'The Winter\\'s Tale':'winterstale'}"
   ]
  },
  {
   "cell_type": "markdown",
   "metadata": {},
   "source": [
    "### 3) scrape all works to HTML"
   ]
  },
  {
   "cell_type": "code",
   "execution_count": null,
   "metadata": {},
   "outputs": [],
   "source": [
    "# iterate through dictWork\n",
    "for strTitle, strURLDir in dictWork.items():\n",
    "    lib.ScrapeNoFearShakespeare.ScrapeWork(strTitle + '.htm', \n",
    "                                                 strURLRoot + strURLDir + '/page_', \n",
    "                                                 0, 2, 'Act 1 Scene 1')"
   ]
  },
  {
   "cell_type": "code",
   "execution_count": null,
   "metadata": {},
   "outputs": [],
   "source": [
    "# scrape Henry IV, Part I\n",
    "lib.ScrapeNoFearShakespeare.ScrapeWork('Henry IV, Part I.htm',\n",
    "                                       strURLRoot + 'henry4pt1/page_',\n",
    "                                       1, 2, 'Act 1 Scene 1')"
   ]
  },
  {
   "cell_type": "code",
   "execution_count": null,
   "metadata": {},
   "outputs": [],
   "source": [
    "# scrape Henry IV, Part II\n",
    "lib.ScrapeNoFearShakespeare.ScrapeWork('Henry IV, Part II.htm',\n",
    "                                       strURLRoot + 'henry4pt2/page_',\n",
    "                                       267, 2, 'Act 1 Scene 1')"
   ]
  },
  {
   "cell_type": "code",
   "execution_count": null,
   "metadata": {},
   "outputs": [],
   "source": [
    "# scrape Henry V\n",
    "lib.ScrapeNoFearShakespeare.ScrapeWork('Henry V.htm',\n",
    "                                       strURLRoot + 'henryv/page_',\n",
    "                                       0, 2, 'Act 1 Prologue')"
   ]
  },
  {
   "cell_type": "code",
   "execution_count": null,
   "metadata": {},
   "outputs": [],
   "source": [
    "# scrape Romeo & Juliet\n",
    "lib.ScrapeNoFearShakespeare.ScrapeWork('Romeo & Juliet.htm',\n",
    "                                       strURLRoot + 'romeojuliet/page_',\n",
    "                                       0, 2, 'Act 1 Prologue')"
   ]
  },
  {
   "cell_type": "code",
   "execution_count": null,
   "metadata": {},
   "outputs": [],
   "source": [
    "# scrape Sonnets\n",
    "lib.ScrapeNoFearShakespeare.ScrapeWork('Sonnets.htm',\n",
    "                                       strURLRoot + 'sonnets/sonnet_',\n",
    "                                       0, 1, 'Sonnet 1')"
   ]
  },
  {
   "cell_type": "code",
   "execution_count": null,
   "metadata": {},
   "outputs": [],
   "source": [
    "# scrape Taming of the Shrew (first part)\n",
    "lib.ScrapeNoFearShakespeare.ScrapeWork('The Taming of the Shrew (first part).htm',\n",
    "                                       strURLRoot + 'shrew/page_',\n",
    "                                       0, 2, 'Induction Scene 1')"
   ]
  },
  {
   "cell_type": "code",
   "execution_count": null,
   "metadata": {},
   "outputs": [],
   "source": [
    "# scrape Taming of the Shrew (second part)\n",
    "lib.ScrapeNoFearShakespeare.ScrapeWork('The Taming of the Shrew (second part).htm',\n",
    "                                       strURLRoot + 'shrew/page_',\n",
    "                                       46, 2, 'Act 1 Scene 2')"
   ]
  },
  {
   "cell_type": "markdown",
   "metadata": {},
   "source": [
    "### 4) convert all HTMLs to PDFs"
   ]
  },
  {
   "cell_type": "code",
   "execution_count": null,
   "metadata": {},
   "outputs": [],
   "source": [
    "# I've tried a bunch of different alternatives to programmatically produce PDFs from HTMLs.\n",
    "# --PDFKit didn't want to fill the width of the page, although it did let me print Landscape.\n",
    "# --Weasyprint doesn't seem to have a Landscape options.\n",
    "# --wkhtmltopdf was also tried. I don't remember what its problem was."
   ]
  },
  {
   "cell_type": "code",
   "execution_count": null,
   "metadata": {},
   "outputs": [],
   "source": [
    "import pdfkit\n",
    "# set PDFKit options\n",
    "# dictOptions = {'page-size': 'Letter', 'orientation':'Landscape', 'margin-top': '0.75in',\n",
    "#                'margin-right': '0.75in', 'margin-bottom': '0.75in', 'margin-left': '0.75in'}\n",
    "# dictOptions = {'page-size': 'Letter', 'orientation':'Landscape', 'page-width': '9.5in'}\n",
    "pdfkit.from_url('King Lear.htm', 'King Lear.pdf', options=dictOptions)"
   ]
  },
  {
   "cell_type": "code",
   "execution_count": null,
   "metadata": {},
   "outputs": [],
   "source": [
    "# Weasyprint\n",
    "HTML('King Lear.htm').write_pdf('King Lear.pdf')"
   ]
  }
 ],
 "metadata": {
  "kernelspec": {
   "display_name": "Python 3",
   "language": "python",
   "name": "python3"
  },
  "language_info": {
   "codemirror_mode": {
    "name": "ipython",
    "version": 3
   },
   "file_extension": ".py",
   "mimetype": "text/x-python",
   "name": "python",
   "nbconvert_exporter": "python",
   "pygments_lexer": "ipython3",
   "version": "3.7.3"
  }
 },
 "nbformat": 4,
 "nbformat_minor": 2
}
