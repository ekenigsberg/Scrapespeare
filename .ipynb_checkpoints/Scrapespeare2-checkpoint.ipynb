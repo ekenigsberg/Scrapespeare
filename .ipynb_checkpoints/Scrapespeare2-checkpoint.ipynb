{
 "cells": [
  {
   "cell_type": "markdown",
   "metadata": {},
   "source": [
    "### 1) import dependencies"
   ]
  },
  {
   "cell_type": "code",
   "execution_count": 1,
   "metadata": {},
   "outputs": [],
   "source": [
    "# import libraries\n",
    "from bs4 import BeautifulSoup\n",
    "import requests"
   ]
  },
  {
   "cell_type": "markdown",
   "metadata": {},
   "source": [
    "### 2) initialize URLs, variables, and browser object"
   ]
  },
  {
   "cell_type": "code",
   "execution_count": 2,
   "metadata": {},
   "outputs": [],
   "source": [
    "# define page root\n",
    "strURLRoot = 'https://www.sparknotes.com/nofear/shakespeare/lear/page_'"
   ]
  },
  {
   "cell_type": "markdown",
   "metadata": {},
   "source": [
    "### 3) set initial vars"
   ]
  },
  {
   "cell_type": "code",
   "execution_count": 4,
   "metadata": {},
   "outputs": [],
   "source": [
    "# set initial page number & scene\n",
    "intPgNum = 0\n",
    "strPrevActScene = ''\n",
    "strCurrActScene = 'Act 1 Scene 1'\n",
    "# set html for \"page zero\" (header html)\n",
    "strPage = '''<html>\n",
    "<link rel=\"stylesheet\" href=\"https://www.sparknotes.com/vendor/stylesheets/owl.carousel.min.css\">\n",
    "<link href=\"https://fonts.googleapis.com/css?family=Raleway:100,100i,200,200i,300,300i,400,400i,500,500i,600,600i,700,700i,800,800i,900,900i\" rel=\"stylesheet\">\n",
    "<link rel=\"stylesheet\" href=\"https://www.sparknotes.com/build/stylesheets/styles.css?rev=1120\">\n",
    "<table border=\"0\" cellpadding=\"0\" class=\"noFear noFear--hasNumbers\">\\n'''\n",
    "# write output file\n",
    "f = open('play.htm', 'w')"
   ]
  },
  {
   "cell_type": "markdown",
   "metadata": {},
   "source": [
    "### 5) scrape play"
   ]
  },
  {
   "cell_type": "code",
   "execution_count": 6,
   "metadata": {},
   "outputs": [],
   "source": [
    "f.close()"
   ]
  }
 ],
 "metadata": {
  "kernelspec": {
   "display_name": "Python 3",
   "language": "python",
   "name": "python3"
  },
  "language_info": {
   "codemirror_mode": {
    "name": "ipython",
    "version": 3
   },
   "file_extension": ".py",
   "mimetype": "text/x-python",
   "name": "python",
   "nbconvert_exporter": "python",
   "pygments_lexer": "ipython3",
   "version": "3.7.3"
  }
 },
 "nbformat": 4,
 "nbformat_minor": 2
}
